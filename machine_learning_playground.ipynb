{
  "nbformat": 4,
  "nbformat_minor": 0,
  "metadata": {
    "colab": {
      "name": "machine-learning-playground.ipynb",
      "provenance": [],
      "collapsed_sections": [],
      "toc_visible": true,
      "include_colab_link": true
    },
    "kernelspec": {
      "name": "python3",
      "display_name": "Python 3"
    }
  },
  "cells": [
    {
      "cell_type": "markdown",
      "metadata": {
        "id": "view-in-github",
        "colab_type": "text"
      },
      "source": [
        "<a href=\"https://colab.research.google.com/github/sid6155330/t81_558_deep_learning/blob/master/machine_learning_playground.ipynb\" target=\"_parent\"><img src=\"https://colab.research.google.com/assets/colab-badge.svg\" alt=\"Open In Colab\"/></a>"
      ]
    },
    {
      "cell_type": "markdown",
      "metadata": {
        "id": "i73RI_RONEh2",
        "colab_type": "text"
      },
      "source": [
        "\n",
        "#**Machine Learning 101 with Python**\n",
        "\n",
        "Dr Jack Yang \n",
        "\n",
        "jianliang.yang1@unsw.edu.au\n",
        "\n",
        "*School of Material Science and Engineering, UNSW*\n",
        "\n",
        "*Advanced Materials and Manufacturing Futures Institute, UNSW*\n",
        "\n",
        "July 2020\n",
        "\n",
        "#*Aims*\n",
        "\n",
        "Machine learning (ML) and artificial intelligence (AI) are definitively some of the words in hype across the society at the moment. However, views on ML/AI are quite divided. While some are astonished with the power devlivered by the complex neural network models that can solve real problems once seems only solvable through human reasoning, such as AlphaGo, others criticize ML is simply a 'glorified version of curve fitting' and being largely a 'black box'.\n",
        "\n",
        "At the end of previous workshop ([Visualisation of Covid-19 Data Using Python](https://colab.research.google.com/drive/1gtIWqmfnp4TsXGiEHOiOZ061MNsak9LX#scrollTo=ZRJzanK8aley)), we demonstrate how Python has made ML easily doable with a few lines of Python. In this workshop, we want to build on top of what we demonstrated previously, by using some simple and easy-to-visualize examples to walk through a proper process of optimizing a ML model. \n",
        "\n",
        "We hope that, this workshop can open up some of the 'black boxes' in ML to help you gain more understanding on how ML work, and why it is more than just a simple 'curve-fitting'."
      ]
    },
    {
      "cell_type": "markdown",
      "metadata": {
        "id": "oD8DonrLUrfN",
        "colab_type": "text"
      },
      "source": [
        "#**Imports**\n",
        "\n",
        "As usual, we will import some of the existing packages for doing the heavy-liftings. We will use ***matplotlib*** for plotting, and ***scikit-learn*** for ML."
      ]
    },
    {
      "cell_type": "code",
      "metadata": {
        "id": "7sIw_XEdN4Fe",
        "colab_type": "code",
        "colab": {}
      },
      "source": [
        "import matplotlib\n",
        "import matplotlib.pyplot as plt\n",
        "import sklearn\n",
        "import math"
      ],
      "execution_count": 5,
      "outputs": []
    },
    {
      "cell_type": "markdown",
      "metadata": {
        "id": "gt4DZZiQVfNX",
        "colab_type": "text"
      },
      "source": [
        "#**Supervised Learning (Regression) - An Introduction**\n",
        "![alt text](https://drive.google.com/uc?id=1WZts0XRCG2SDQlD0UPl2TLVSaT8M7UGk)\n",
        "\n",
        "At the first glance, the purpose of ML regression is very similar to curve-fitting. Given a set of $x$'s and $y$'s, we want to *interpolate* the relationship between them in order to obtain a function $y=f^{\\mbox{pred}}(x)$, which should be as close to the true function  $y=f^{\\mbox{true}}(x)$ as possible. From which we can predict the corresponding $y_{new}$ for a new observable $x_{new}$ as   $y_{new}=f^{\\mbox{pred}}(x_{new})$.\n",
        "\n",
        "However, being called machine **learning**, there is at least one key difference from a standard curve fitting:\n",
        "\n",
        "In ML, we generally have **no knowledge** what $f(x)$ is needed to fit the observed data, because this is what we are trying to learn. What we have is a set of **probablistic believes** on how the world looks like (i.e. what functions can possibly fit to the data, which is called ***prior***), and the ML algorithm helps us to find out which subset of thses functions have the **highest probability to reproduce the observed relationship** (which is also called the ***posterior***). This is schematically illustrated as follow and we will demonstrate that using an ML method called **Gaussian Processes**.\n",
        "\n",
        "![alt text](https://drive.google.com/uc?id=1zeVoy2bbF55YtExUORB5TIJCdgqMU0KJ)\n"
      ]
    },
    {
      "cell_type": "markdown",
      "metadata": {
        "id": "YYXt5XWmsHYq",
        "colab_type": "text"
      },
      "source": [
        "#**Setting the Stage - Playing with the Lennard Jones Potential**\n",
        "\n",
        "In this workshop, we will use Gaussian Process to demonstrate how an ML model can be optimized to learn a very simpe mathematical relationships from a set of obserbales. The true relationship is governed by the physics of a Lennard-Jones potential. Don't worry if you don't know what it is. In a nutshell, it describes the interaction energies between two particles separated at distance $x$, and has a very simple mathematical form:\n",
        "\\begin{equation}\n",
        "y=-\\frac{2a}{x^6}+\\frac{b}{x^{12}}.\n",
        "\\end{equation}\n",
        "\n",
        "Nevertheless, it is sufficient for demonstrating a few key ideas in ML for people who simply wants to get a crack on it!\n",
        "\n",
        "To set this up, we construct a Python class (or object) to handle a few things in a more pragmatic way."
      ]
    },
    {
      "cell_type": "code",
      "metadata": {
        "id": "kZFurSD-VwcJ",
        "colab_type": "code",
        "colab": {}
      },
      "source": [
        "class LennardJonesian(object):\n",
        "  \"\"\"\n",
        "  This is a class object that helps to define the functional form of the Lennard Jones\n",
        "  potential, and allows you to calculate the value of the potential given a distances \n",
        "  between the two particles.\n",
        "\n",
        "  To construct a default object, simply call:\n",
        "  lj = LennardJonesian()\n",
        "  with the default parameters of a=1 and b=1 (see the __init__ function)\n",
        "\n",
        "  If you would like to change these parameters, you can initialize a new object, such as\n",
        "  lj2 = LennardJonesian(a=2,b=1.5)\n",
        "\n",
        "  \"\"\"\n",
        "\n",
        "  def __init__(self,a=1,b=1):\n",
        "    self.a = a\n",
        "    self.b = b\n",
        "\n",
        "  def potential(self,x):\n",
        "    \"\"\"\n",
        "    This function calculate the value of the Lennard Jones potential at a given separation x.\n",
        "    \"\"\"\n",
        "    return -2*self.a/math.pow(x,6)+self.b/math.pow(x,12)\n",
        "\n",
        "  def plot_analytic_potential(self,n_samples=500,x_start=0.64,x_end=1.64,c='k',label=None):\n",
        "    \"\"\"\n",
        "    This function plots the curve for Lennard Jones potential.\n",
        "    \n",
        "    Args:\n",
        "      xs: a list of x values.\n",
        "    \"\"\"\n",
        "    xs = [x_start+i*(x_end-x_start)/n_samples for i in range(n_samples)]\n",
        "    plt.plot(xs,[self.potential(i) for i in xs],'-',c=c,label=label,lw=2.5,alpha=0.5)\n",
        "    plt.plot(xs,[0 for _ in xs],'y:')\n",
        "    plt.xlabel('$x$',fontsize=20)\n",
        "    plt.ylabel('$y$',fontsize=20)\n",
        "\n",
        "  def fake_samples(self,n_samples=500,x_start=0.64,x_end=1.64):\n",
        "    \"\"\"\n",
        "    For the demonstration purpose only, we will generate a set of random samples (x,y)\n",
        "    that will roughly follow the relationship given by the LJ potential. A random noise\n",
        "    is added to the y value to make it deviate from the true LJ potential. The idea\n",
        "    here is to mimic an experimentally/computationally generated database, on which \n",
        "    ML will be performed. In reality, the database generating process would be \n",
        "    the most laborious and slow part of the process, which cannot be demonstrated\n",
        "    in a live event.\n",
        "\n",
        "    Args:\n",
        "      n_samples: number of samples to be generated, default is 500.\n",
        "    \"\"\"\n",
        "    import random\n",
        "\n",
        "    #this draws a random float in the range given by [x_start,x_end]\n",
        "    x_sample = [x_start+random.randrange(0,100000)/100000*(x_end-x_start) for _ in range(n_samples)]\n",
        "    x_sample = list(sorted(x_sample))\n",
        "\n",
        "    #this calculate the corresponding y at the x, plus a random noise\n",
        "    y_sample = [self.potential(x)*(random.randrange(-50,50)/100+1) for x in x_sample]\n",
        "    return x_sample,y_sample"
      ],
      "execution_count": 6,
      "outputs": []
    },
    {
      "cell_type": "markdown",
      "metadata": {
        "id": "96aHeOATU50I",
        "colab_type": "text"
      },
      "source": [
        "First of all, let's plot the true function to see what it looks like!"
      ]
    },
    {
      "cell_type": "code",
      "metadata": {
        "id": "BONV7lCRwk5m",
        "colab_type": "code",
        "colab": {
          "base_uri": "https://localhost:8080/",
          "height": 414
        },
        "outputId": "980ed16e-f7f3-4bb2-b163-d5707bca0c36"
      },
      "source": [
        "#Set up the aspect ratio of the lot, so I have a big plot to look at\n",
        "plt.figure(figsize=(6,6))\n",
        "\n",
        "#This is how I instantiate a new LennardJonesian object. I gave a set of parameters so \n",
        "#the graph looks more curely (i.e. hase some interesting feature). \n",
        "#Also notice that I assign the created object to a new variable called lj so I can\n",
        "#get access to different attributes/methods available to the object.\n",
        "lj=LennardJonesian(a=10,b=2)\n",
        "\n",
        "#This is how you call the function *plot_analytic_potential* in the object to \n",
        "#plot out how this function looks like. The idea of setting up an object, in this\n",
        "#case, is that I dont need to pass the variables a and b to all other functions\n",
        "#such as calculating y's from x's and plot data etc etc, because they are known \n",
        "#throughout the object once it is constructed. This makes the code easier to read.\n",
        "lj.plot_analytic_potential(c='b',label='True Function')\n",
        "\n",
        "plt.legend()"
      ],
      "execution_count": 7,
      "outputs": [
        {
          "output_type": "execute_result",
          "data": {
            "text/plain": [
              "<matplotlib.legend.Legend at 0x7ff7d4797c50>"
            ]
          },
          "metadata": {
            "tags": []
          },
          "execution_count": 7
        },
        {
          "output_type": "display_data",
          "data": {
            "image/png": "[encoded data removed]",
            "text/plain": [
              "<Figure size 432x432 with 1 Axes>"
            ]
          },
          "metadata": {
            "tags": [],
            "needs_background": "light"
          }
        }
      ]
    },
    {
      "cell_type": "markdown",
      "metadata": {
        "id": "n1oouWwR_Lb8",
        "colab_type": "text"
      },
      "source": [
        "You can probably see that this function, even though it is very simple, it has a part where $y$ changes very rapidly with respect to $x$, and a part where $y$ varies slowly with respect to $x$. This basically reflects the landscape of most mathematical functions that we want to learn/fit, whether or not we are using ML techniques or not. Being able to appreciate how your underlying function 'looks' like will help you a lot with properly tuning the ML model, and this is why we are using a simple function here so we can visualize what is going on.\n"
      ]
    },
    {
      "cell_type": "markdown",
      "metadata": {
        "id": "tPsbMRFsxjba",
        "colab_type": "text"
      },
      "source": [
        "Now let us generate some data that overall behaves like the Lennard-Jones system, but does not follow a simple curve as shown above. \n",
        "\n",
        "This could be the case where:\n",
        "1. data is measured experimentally where noises are inevitable.\n",
        "2. data is generated in a high-dimensional space, when it is projected onto $x$, it shows a dominating LJ behaviors but their are additional contributing factors from other dimensions that makes the data deviate from a perfect LJ. \n",
        "\n",
        "*REMEMBER*\n",
        "\n",
        "**In real life, it is this set of data that we will see first and try to learn, not the underlying Lennard-Jones potential, which is the target knowledge to be learned. We only do this in the reverse order here so you can understand the data easier, which, as mentioned about, is quite important for ML to work for you.**"
      ]
    },
    {
      "cell_type": "code",
      "metadata": {
        "id": "pz08_rCH1kYf",
        "colab_type": "code",
        "colab": {
          "base_uri": "https://localhost:8080/",
          "height": 723
        },
        "outputId": "33e925b8-ba3b-4349-e0d6-18fa8927b3d4"
      },
      "source": [
        "n_samples=500 # this is how many sample we have on our hand, from which we\n",
        "              # will learn the underlying behaviors\n",
        "\n",
        "plt.figure(figsize=(12,12))\n",
        "plt.subplot(2,2,1)\n",
        "lj.plot_analytic_potential(c='#f1e0d6',label='True Function')\n",
        "x_sample,y_sample=lj.fake_samples(n_samples=n_samples)\n",
        "#show what are the points being sampled \n",
        "plt.scatter(x_sample,y_sample,marker='o',s=7,facecolor='#525b56',label='experimental observations')\n",
        "plt.legend()\n",
        "\n",
        "#We also want to have some understanding on the distributions of the data points\n",
        "#It may come useful when we are trying to understand the accuracy of ML later. \n",
        "plt.subplot(2,2,2)\n",
        "plt.hist(y_sample,bins=50,orientation='horizontal',color='#525b56',alpha=0.6,density=True);\n",
        "plt.xlabel('Frequency',fontsize=20);\n",
        "plt.ylabel('y',fontsize=20);\n",
        "\n",
        "plt.subplot(2,2,3)\n",
        "plt.hist(x_sample,bins=50,color='#525b56',alpha=0.6,density=True);\n",
        "plt.ylabel('Frequency',fontsize=20);\n",
        "plt.xlabel('x',fontsize=20);"
      ],
      "execution_count": 8,
      "outputs": [
        {
          "output_type": "display_data",
          "data": {
            "image/png": "[encoded data removed]",
            "text/plain": [
              "<Figure size 864x864 with 3 Axes>"
            ]
          },
          "metadata": {
            "tags": [],
            "needs_background": "light"
          }
        }
      ]
    },
    {
      "cell_type": "markdown",
      "metadata": {
        "id": "zlUcQEUV8HqI",
        "colab_type": "text"
      },
      "source": [
        "#**Initial Learning - Getting Some Idea Where We are Heading**\n",
        "\n"
      ]
    },
    {
      "cell_type": "code",
      "metadata": {
        "id": "BHj9VNhN15q6",
        "colab_type": "code",
        "colab": {}
      },
      "source": [
        "from sklearn.gaussian_process import GaussianProcessRegressor\n",
        "from sklearn.gaussian_process.kernels import RBF\n",
        "import numpy as np"
      ],
      "execution_count": 9,
      "outputs": []
    },
    {
      "cell_type": "markdown",
      "metadata": {
        "id": "8gTvgOBgBlao",
        "colab_type": "text"
      },
      "source": [
        "# The training set\n",
        "\n",
        "![](https://drive.google.com/uc?id=1wxDTEOEKkINmz8qIt_FDREqZJocKZ0ne)\n",
        "\n",
        "The first step of the ML process is to extract a portion of the sample for constructing a training set to train the model, where the rest are left for testing/validating the trained model to see how well the model can predict the results of *previously unseen* data.\n",
        "\n",
        "How to appropriately select the training data has very important implication on the quality of ML-model, which we cannot go into too much details here. For the moment, the training data is simply selected as ****a fraction ($t$%) of the total sample evenly spreaded across $x$****, so $t$ is one of the parameters in our ML model"
      ]
    },
    {
      "cell_type": "code",
      "metadata": {
        "id": "PNjKwGWu8GbT",
        "colab_type": "code",
        "colab": {
          "base_uri": "https://localhost:8080/",
          "height": 238
        },
        "outputId": "2769dc72-d65b-4ca4-9f1b-d235f730db26"
      },
      "source": [
        "training_pt_fraction=0.2\n",
        "num_traing_pts=n_samples*training_pt_fraction\n",
        "gap=int(n_samples/num_traing_pts)\n",
        "print(gap)\n",
        "\n",
        "#these are the x's and the corresponding y's for training the model\n",
        "x_train=np.array(x_sample[::gap]).reshape(-1, 1)\n",
        "y_train=np.array(y_sample[::gap]).reshape(-1, 1)\n",
        "\n",
        "#Plot the training set out and have a look\n",
        "plt.figure(figsize=(12,12))\n",
        "plt.subplot(2,2,1)\n",
        "lj.plot_analytic_potential(c='#f1e0d6',label='True Function')\n",
        "plt.scatter(x_sample,y_sample,marker='o',s=7,facecolor='#525b56',alpha=0.5,label='experimental observations')\n",
        "plt.scatter(x_train,y_train,marker='o',s=15,facecolor='b',label='training points')\n",
        "plt.legend()"
      ],
      "execution_count": 3,
      "outputs": [
        {
          "output_type": "error",
          "ename": "NameError",
          "evalue": "ignored",
          "traceback": [
            "\u001b[0;31m---------------------------------------------------------------------------\u001b[0m",
            "\u001b[0;31mNameError\u001b[0m                                 Traceback (most recent call last)",
            "\u001b[0;32m<ipython-input-3-26c3b15a237d>\u001b[0m in \u001b[0;36m<module>\u001b[0;34m()\u001b[0m\n\u001b[1;32m      1\u001b[0m \u001b[0mtraining_pt_fraction\u001b[0m\u001b[0;34m=\u001b[0m\u001b[0;36m0.2\u001b[0m\u001b[0;34m\u001b[0m\u001b[0;34m\u001b[0m\u001b[0m\n\u001b[0;32m----> 2\u001b[0;31m \u001b[0mnum_traing_pts\u001b[0m\u001b[0;34m=\u001b[0m\u001b[0mn_samples\u001b[0m\u001b[0;34m*\u001b[0m\u001b[0mtraining_pt_fraction\u001b[0m\u001b[0;34m\u001b[0m\u001b[0;34m\u001b[0m\u001b[0m\n\u001b[0m\u001b[1;32m      3\u001b[0m \u001b[0mgap\u001b[0m\u001b[0;34m=\u001b[0m\u001b[0mint\u001b[0m\u001b[0;34m(\u001b[0m\u001b[0mn_samples\u001b[0m\u001b[0;34m/\u001b[0m\u001b[0mnum_traing_pts\u001b[0m\u001b[0;34m)\u001b[0m\u001b[0;34m\u001b[0m\u001b[0;34m\u001b[0m\u001b[0m\n\u001b[1;32m      4\u001b[0m \u001b[0mprint\u001b[0m\u001b[0;34m(\u001b[0m\u001b[0mgap\u001b[0m\u001b[0;34m)\u001b[0m\u001b[0;34m\u001b[0m\u001b[0;34m\u001b[0m\u001b[0m\n\u001b[1;32m      5\u001b[0m \u001b[0;34m\u001b[0m\u001b[0m\n",
            "\u001b[0;31mNameError\u001b[0m: name 'n_samples' is not defined"
          ]
        }
      ]
    },
    {
      "cell_type": "markdown",
      "metadata": {
        "id": "Qe3kzczmI8Fg",
        "colab_type": "text"
      },
      "source": [
        "# The Kernel (or the covariance matrix)\n",
        "\n",
        "*   This is the most critical ingredient in Gaussian Processes.\n",
        "*   Given two points $(x_1,y_1)$ and $(x_2,y_2)$ in space, the kernel describes the similarity between two points $\\mathcal{K}(x_1,x_2)$ based on the distance between them $\\mathcal{K}(x_1,x_2)=\\mathcal{K}(d(x_1,x_2))$. The idea is that if $x_1$ and $x_2$ are close together, $y_1$ should also be close to $y_2$ (in theory).\n",
        "*   The kernel therefore encodes *our prior belief on how two data points are similar to each other*, controlled by some parameters.\n",
        "\n",
        "Here we will be using the Radial Basis Function (RBF) as our kernel, which is a Gaussian function of the distance between two points:\n",
        "\\begin{equation}\n",
        "\\mathcal{K}(x_i,x_j)=\\exp\\left(-\\frac{d(x_i,x_j)^2}{2\\ell^2}\\right)\n",
        "\\end{equation}\n",
        "in which $\\ell$ is the parameter controlling how correlated are two points in space.\n",
        "\n",
        "**Note**\n",
        "\n",
        "* While simple kernel may serve as a starting point for understanding the basics, real problems often require more complex kernels, often tailored designed to better capture the physics behind.\n",
        "* It is possible to combine multiple kernels to model more complex behaviors in the data.\n",
        "\n",
        "Now let's first get some impression on what our prior will look like drawn by the RBF kernel with length-scale parameter $\\ell$."
      ]
    },
    {
      "cell_type": "code",
      "metadata": {
        "id": "_krfdXp9lt8_",
        "colab_type": "code",
        "colab": {}
      },
      "source": [
        "def draw_prior(length_scale):\n",
        "  #length_scale: variable, the value of which will be given to define\n",
        "  #              the kernel\n",
        "\n",
        "  #define a kernel and Gaussian process object by giving it a kernel\n",
        "  kernel = RBF(length_scale=length_scale) \n",
        "  gp = GaussianProcessRegressor(kernel=kernel)\n",
        "\n",
        "  X_ = np.linspace(0.6, 1.6 ,100) #this is the range of x in which we want to model\n",
        "  y_mean, y_std = gp.predict(X_[:, np.newaxis], return_std=True)\n",
        "\n",
        "  #drawing sample functions from the prior probability distribution function, which\n",
        "  #simply says all functions are equal likely to be drawn\n",
        "  y_samples = gp.sample_y(X_[:, np.newaxis], 3)\n",
        "\n",
        "  return X_, y_samples\n",
        "\n",
        "length_scales=[0.1,0.05,0.001,0.0001]\n",
        "plt.figure(figsize=(20,4))\n",
        "for i in range(4):\n",
        "  x, y = draw_prior(length_scales[i])\n",
        "  plt.subplot(1,4,i+1)\n",
        "  plt.plot(x,y,'-')\n",
        "  plt.xlabel('x',fontsize=20)\n",
        "  if i==0:\n",
        "    plt.ylabel('y',fontsize=20)\n",
        "  plt.title('RBF l='+str(length_scales[i]))"
      ],
      "execution_count": null,
      "outputs": []
    },
    {
      "cell_type": "markdown",
      "metadata": {
        "id": "xh8Qev0CsF_M",
        "colab_type": "text"
      },
      "source": [
        "# Initial Fit\n",
        "\n",
        "Let's first use the four kernels listed above to try fitting our data, using 0.2 as the fraction of the total data to be used as training points. This will allows us to get some idea on what might be a reasonable starting parameter for the RBF kernel. \n",
        "\n",
        "Here we will fix the training points across all four parameters, and plot the machine--learned relationships between $x$ and $y$'s."
      ]
    },
    {
      "cell_type": "code",
      "metadata": {
        "id": "ZtM0gZQjcRyT",
        "colab_type": "code",
        "colab": {}
      },
      "source": [
        "def play_around_with_GP(alpha=None):\n",
        "  length_scales=[1,0.05,0.001,0.0001]\n",
        "  plt.figure(figsize=(20,5))\n",
        "\n",
        "  for i in range(4):\n",
        "    #As above, set up a Gaussian Process object with the kernel we want\n",
        "    kernel = RBF(length_scale=length_scales[i]) \n",
        "    if alpha is None:\n",
        "      gp = GaussianProcessRegressor(kernel=kernel)\n",
        "    else:\n",
        "      gp = GaussianProcessRegressor(kernel=kernel,alpha=alpha)\n",
        "\n",
        "\n",
        "    #Train our ML models by letting it observing our training set\n",
        "    gp.fit(x_train,y_train) \n",
        "\n",
        "    #Plot routines carried out from above, plot the raw data, training points etc.\n",
        "    plt.subplot(1,4,i+1)\n",
        "    lj.plot_analytic_potential(c='#f1e0d6',label='True Function')\n",
        "    plt.scatter(x_sample,y_sample,marker='o',s=7,facecolor='#525b56',alpha=0.5,label='experimental observations')\n",
        "    plt.scatter(x_train,y_train,marker='o',s=15,facecolor='b',label='training points')\n",
        "    \n",
        "    #now we see what the learned model are by evaluating the functional value at \n",
        "    #a range of x's\n",
        "    y_mean, y_std = gp.predict(np.array(x_sample)[:, np.newaxis], return_std=True)\n",
        "    plt.plot(x_sample,y_mean,'r-',lw=2,label='ML Approximation')\n",
        "\n",
        "    plt.title('RBF $l$='+str(length_scales[i]))\n",
        "\n",
        "    plt.legend()\n",
        "  plt.tight_layout()\n",
        "\n",
        "play_around_with_GP(alpha=None)"
      ],
      "execution_count": null,
      "outputs": []
    },
    {
      "cell_type": "markdown",
      "metadata": {
        "id": "QWv_AdGxf7W1",
        "colab_type": "text"
      },
      "source": [
        "As you can see from this initial trial, the parameter $\\ell$ plays a rather significant role in how well ML can ***surrogate*** a good mathematical realtionship between $x$ and $y$. For the case where 20% of our data are used to train the model, $\\ell=0.001$ seems to be a reasonable choice that gives a function which more or less follows the behaviour of a LJ potential. \n",
        "\n",
        "However, you can also notice that the learned function is very oscillatory compared to the true LJ function, as the surrogated model tries to go pass the training points ***exactly***. But remember, when we generated the data, we introduced some ***random noises*** into the data to mimick what happens under realistic experimental situations. So we need to tell our ''machine'' that there are noises in the data, and don't try to force itself to reproduce the exact values of the training point. This can be controlled by specifying the noise level through the parameter $\\alpha$."
      ]
    },
    {
      "cell_type": "code",
      "metadata": {
        "id": "z8G6l9cXphYs",
        "colab_type": "code",
        "colab": {}
      },
      "source": [
        "play_around_with_GP(alpha=0.2)"
      ],
      "execution_count": null,
      "outputs": []
    },
    {
      "cell_type": "markdown",
      "metadata": {
        "id": "rgyMpkH2jR0c",
        "colab_type": "text"
      },
      "source": [
        "#**Optimising the model**\n",
        "\n",
        "# The Error Function\n",
        "\n",
        "Now, for most of the machine learning models that we will actually deal with, we cannot really inspect the machine-learned model as above to judge the quality of the model. This is because the problem we are trying to deal with are in *high-dimensional space* and often difficult to visualize. (Although we can get some help from **Unsupervised Machine Learning**, we won't go into this and make the problem too complicated).\n",
        "\n",
        "The most common way for us to optimise the model is to monitor the change of **error function** as we scan through a set of parameters to help us finding the best choice. The  **error function** simply measures the difference between the predicted value from the ML model and the true value. \n",
        "\n",
        "Here we use a slightly more complicated error function to make it numerically more tractable.\n",
        "\n",
        "\\begin{equation}\n",
        "\\mbox{Error Function}=\\frac{\\sum_{i=1}^{N_{test}}\\left|E^{ref}_{i}-E^{GP}_{i}\\right|}{\\sum_{i=1}^{N_{test}}\\left|E^{ref}_{i}-\\overline{E^{ref}}\\right|},\n",
        "\\end{equation}\n",
        "\n",
        "Moreover, for each $\\ell$, we will train over 5 set of different training set randomly sampled from the data and take the average of it."
      ]
    },
    {
      "cell_type": "markdown",
      "metadata": {
        "id": "q-w6aFPx2TCO",
        "colab_type": "text"
      },
      "source": [
        "# Optimising the length scale $\\ell$ for RBF kernel"
      ]
    },
    {
      "cell_type": "code",
      "metadata": {
        "id": "gHdaBQ0Enxiz",
        "colab_type": "code",
        "colab": {}
      },
      "source": [
        "import warnings\n",
        "warnings.filterwarnings('ignore')\n",
        "\n",
        "#Define a series of parameters that we are going to scan through\n",
        "length_scales=np.logspace(-4, 1, num=150)\n",
        "\n",
        "\n",
        "def get_train_test_set(x_sample,y_sample,training_pt_fraction=0.2):\n",
        "  \"\"\"\n",
        "  Define a helper function to randomly select a set of points for training\n",
        "  and validation. The portion of the training points is specified by \n",
        "  the training_pt_fraction.\n",
        "  \"\"\"\n",
        "  import random\n",
        "  ids=[i for i in range(len(x_sample))]\n",
        "  train_ids = random.sample(ids, int(training_pt_fraction*len(x_sample)))\n",
        "  test_ids = [i for i in ids if i not in train_ids]\n",
        "\n",
        "  training_set_x = [x_sample[i] for i in train_ids]\n",
        "  training_set_y = [y_sample[i] for i in train_ids]\n",
        "  test_set_x =  [x_sample[i] for i in test_ids]\n",
        "  test_set_y =  [y_sample[i] for i in test_ids]\n",
        "  return np.array(training_set_x).reshape(-1, 1), np.array(training_set_y).reshape(-1, 1), np.array(test_set_x).reshape(-1, 1), np.array(test_set_y).reshape(-1, 1)\n",
        "\n",
        "y_mean = np.mean(y_sample)\n",
        "\n",
        "mean_error = []\n",
        "\n",
        "for i in range(len(length_scales)):\n",
        "  kernel = RBF(length_scale=length_scales[i]) \n",
        "\n",
        "  #note that we fix alpha=0.2 here, of course, it may also be a parameter to be optimized\n",
        "  gp = GaussianProcessRegressor(kernel=kernel)\n",
        "\n",
        "  this_error = []\n",
        "  for j in range(5): # test the same length scale 5 times to collect some statistics\n",
        "    x_train,y_train,x_test,y_test = get_train_test_set(x_sample,y_sample)\n",
        "    gp.fit(x_train,y_train)\n",
        "    y_predict = gp.predict(x_test, return_std=False)\n",
        "\n",
        "    #calculate the error function\n",
        "    nominator = sum([abs(y_predict[k]-y_test[k]) for k in range(len(y_predict))])\n",
        "    denominator = sum([abs(y_predict[k]-y_mean) for k in range(len(y_predict))])\n",
        "    error = nominator/denominator\n",
        "    this_error.append(error)\n",
        "\n",
        "  mean_error.append(np.mean(error))\n",
        "\n",
        "\n",
        "#plot the training curve for optimizing ell\n",
        "plt.plot(length_scales,mean_error,'ro')\n",
        "plt.xscale('log')\n",
        "\n",
        "plt.xlabel(\"length_scale\")\n",
        "plt.ylabel(\"Error function\")"
      ],
      "execution_count": null,
      "outputs": []
    },
    {
      "cell_type": "markdown",
      "metadata": {
        "id": "XldlNjmU2jEs",
        "colab_type": "text"
      },
      "source": [
        "# How much data should we use to train the model?\n",
        "\n",
        "One of the most important parameter to choose for ML, which is independent from what exactly the ML method is, would be the number of data points that is needed to properly train an ML model.\n",
        "\n",
        "It may be natural to think that the more data to train the model, the better the quality it would be. What this belief reflects is really a competition between two of the followings:\n",
        "\n",
        "* The error on training set (i.e. how well does the model reproduce the data that it was trained upon?), and \n",
        "* The error on validation/test set (i.e. how well can the model predict the values of the unseen data?)\n",
        "\n",
        "Let's look at how our model behaves when we change the training set fraction while keeping $\\ell$ and $\\alpha$ fixed."
      ]
    },
    {
      "cell_type": "code",
      "metadata": {
        "id": "QXdlDre8oN31",
        "colab_type": "code",
        "colab": {}
      },
      "source": [
        "training_set_fractions = [0.1+0.0125*i for i in range(66)]\n",
        "\n",
        "mean_error_training=[]\n",
        "mean_error_validation=[]\n",
        "\n",
        "y_mean = np.mean(y_sample)\n",
        "\n",
        "for tf in training_set_fractions:\n",
        "  kernel = RBF(length_scale=length_scales[i]) \n",
        "\n",
        "  #note that we fix alpha=0.2 here, of course\n",
        "  gp = GaussianProcessRegressor(kernel=kernel,alpha=0.2)\n",
        "\n",
        "  this_training_error = []\n",
        "  this_validation_error = []\n",
        "  for j in range(5): # test the same length scale 5 times to collect some statistics\n",
        "    x_train,y_train,x_test,y_test = get_train_test_set(x_sample,y_sample,training_pt_fraction=tf)\n",
        "    gp.fit(x_train,y_train)\n",
        "\n",
        "    #error for the training set\n",
        "    y_predict = gp.predict(x_train, return_std=False)\n",
        "    nominator = sum([abs(y_predict[k]-y_train[k]) for k in range(len(y_predict))])\n",
        "    denominator = sum([abs(y_predict[k]-y_mean) for k in range(len(y_predict))])\n",
        "    error = nominator/denominator\n",
        "    this_training_error.append(error)\n",
        "\n",
        "    #error for the validation set\n",
        "    y_predict = gp.predict(x_test, return_std=False)\n",
        "    nominator = sum([abs(y_predict[k]-y_test[k]) for k in range(len(y_predict))])\n",
        "    denominator = sum([abs(y_predict[k]-y_mean) for k in range(len(y_predict))])\n",
        "    error = nominator/denominator\n",
        "    this_validation_error.append(error)\n",
        "\n",
        "  mean_error_training.append(np.mean(this_training_error))\n",
        "  mean_error_validation.append(np.mean(this_validation_error))\n",
        "\n",
        "plt.plot(training_set_fractions,mean_error_training,'bo-',label='Training Error')\n",
        "plt.plot(training_set_fractions,mean_error_validation,'ro-',label='Validation Error')\n",
        "plt.legend()\n",
        "plt.xlabel(\"Training Set Fraction\")\n",
        "plt.ylabel(\"Error function\")\n",
        "plt.yscale('log')"
      ],
      "execution_count": null,
      "outputs": []
    },
    {
      "cell_type": "markdown",
      "metadata": {
        "id": "SdHrVQyH455q",
        "colab_type": "text"
      },
      "source": [
        "Note that here we are only using a simple code to demonstrate why you should be testing your train/test set partitions to tune the performances of your ML model. In real work, this is more involved, as there are statistical concerns on how to choose them such that the evaulations are statically significant. \n",
        "\n",
        "[Cross Validation](https://scikit-learn.org/stable/modules/cross_validation.html#cross-validation) is a pragmatic way on how this can be properly done to avoid under-/over-training an ML model. Practically it will be too involved to go through C.V. in this workshop, and I encourage you to read the documentations if you are seriously thinking about doing ML! \n",
        "\n"
      ]
    },
    {
      "cell_type": "markdown",
      "metadata": {
        "id": "gw8a51EPAb8Y",
        "colab_type": "text"
      },
      "source": [
        "#**Enhaced Sampling - A More Advanced Topic**\n",
        "\n",
        "You may have noticed that when we first generated the samples $\\left\\{(x_{i},y_{i})\\vert y_{i}=\\mbox{LJ} (x_{i})+\\varepsilon_{i}\\right\\}$, where $\\varepsilon_{i}$ is a random noise, all the $x$'s are rather uniformly smapled, but the $y$'s are heavily peaked at $y\\approx 0$, because of the unique shape of the Lennard-Jones potential. \n",
        "\n",
        "For many applications, it is often the $y$'s that we want to sample more evenly. A typical application scenario will be in the experiments, where we can only control the experimental parameters $x$ to get some results $y$. After performing $N$ experiments, we saw overwhelmingly results concentrated on a few points, with a few outliers. The question we want to ask is then, how can we finely tune our input parameter $x$ so we can observe more data around the outliers?\n",
        "\n",
        "This is an extremely difficult task if we dont really know how $y$ is related to $x$ from random experimental observations. But if we can use ML to learn the ***inverse relationship from $y$ back to $x$***, then it gives us a handle to more uniformly sample $y$ and then somehow infer back to a probable $x$ from which the desired $y$ can be obtained. \n",
        "\n",
        "We will try to demonstrate this with the code below.\n"
      ]
    },
    {
      "cell_type": "code",
      "metadata": {
        "id": "v6dO50Kl2HX0",
        "colab_type": "code",
        "colab": {}
      },
      "source": [
        "x_predict_y_uniform=[0 for _ in range(10000)]\n",
        "for i in range(10):\n",
        "  gp = GaussianProcessRegressor(kernel=kernel,alpha=0.2) \n",
        "  x_train,y_train,x_test,y_test = get_train_test_set(x_sample,y_sample,training_pt_fraction=0.5)\n",
        "\n",
        "  #We train a model to learn x from y rather than to learn y from x\n",
        "  gp.fit(y_train,x_train)\n",
        "  x_predict = gp.predict(np.array(y_sample).reshape(-1, 1) , return_std=False)\n",
        "\n",
        "  import random\n",
        "\n",
        "  #now we draw a uniform set of samples from y and try to predict the corresponding x\n",
        "  y_uniform=[-60+random.randrange(0,210) for _ in range(10000)]\n",
        "  _x_predict_y_uniform = gp.predict(np.array(y_uniform).reshape(-1, 1) , return_std=False)\n",
        "  \n",
        "  x_predict_y_uniform += _x_predict_y_uniform[:,0]/10\n",
        "\n",
        "  if i==0:\n",
        "    plt.figure(figsize=(8,8))\n",
        "    plt.subplot(2,2,1)\n",
        "    plt.scatter(x_sample,y_sample,marker='o',s=7,facecolor='#525b56',alpha=0.5,label='experimental observations')\n",
        "    plt.xlabel('$x$')\n",
        "    plt.ylabel('$y$')\n",
        "    plt.xlim([0.4,1.2])\n",
        "    plt.plot(_x_predict_y_uniform,y_uniform,'b.',label='ML learned relationship')\n",
        "    plt.legend()\n",
        "\n",
        "plt.subplot(2,2,2)\n",
        "\n",
        "plt.hist(y_uniform,bins=50,orientation='horizontal',color='#525b56',alpha=0.6,density=True);\n",
        "plt.title(\"Probability Distribution in $y$\")\n",
        "\n",
        "plt.subplot(2,2,3)\n",
        "\n",
        "#Here we will plot the distribution of x, if, we drawn samples of x according to \n",
        "#   such a distribution, then we will have some confidence that it will lead to\n",
        "#   a more uniformly distributed y\n",
        "plt.hist(list(x_predict_y_uniform),bins=50,color='#525b56',alpha=0.6,density=True);\n",
        "plt.title(\"Probability Distribution in $x$ averaged 10 times\")\n",
        "plt.xlim([0.4,1.2])\n",
        "\n",
        "plt.tight_layout()"
      ],
      "execution_count": null,
      "outputs": []
    },
    {
      "cell_type": "markdown",
      "metadata": {
        "id": "pqtCXc-TtoDl",
        "colab_type": "text"
      },
      "source": [
        "As you can see from above, after averaging 10 trained GP models, the optimum distribution of $x$ that leads to a uniform samling of $y$ is a Gaussian type distribution centered around 0.75. If now we draw samples of $x$ from this learned distribution, we would have a better chance to sample the region of $y$ where the data changes most rapidly."
      ]
    },
    {
      "cell_type": "markdown",
      "metadata": {
        "id": "VEXu6oyBAmvH",
        "colab_type": "text"
      },
      "source": [
        "# **Wrapping Up**\n",
        "\n",
        "So, we have come to the end of this quick introductory tutorial on supervised machine-learning using scikit-learn. We have gone through the process of training the ML model, which is more or less common to many mature ML techniques that has been developed. However, to really make ML work for you, there are still many nity-gritties that you need to consider/work on, so you can get obtained the best outcomes. Some of the things that you need to think about include:\n",
        "\n",
        "* What kind of data do I have, how do I get the data?\n",
        "* How do I represent the data mathematically so something useful can be learned from it? (This itself is a big research topic in ML itself)\n",
        "* Have I trained the model properly? Is there anything I can do to train the model better?\n",
        "* And lastly, what can I get out from the ML model? Canit provide me with some new insights that were difficult to be discovered otherwise?\n"
      ]
    },
    {
      "cell_type": "code",
      "metadata": {
        "id": "NhXjgvK0DIkH",
        "colab_type": "code",
        "colab": {}
      },
      "source": [
        ""
      ],
      "execution_count": null,
      "outputs": []
    }
  ]
}